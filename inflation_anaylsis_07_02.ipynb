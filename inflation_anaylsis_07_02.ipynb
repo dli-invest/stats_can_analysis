{
 "cells": [
  {
   "cell_type": "code",
   "execution_count": null,
   "metadata": {},
   "outputs": [],
   "source": [
    "# pointless to analysis inflation a lot of people already do it, follow peter lynch, see what the individual companies are doing"
   ]
  }
 ],
 "metadata": {
  "language_info": {
   "name": "python"
  },
  "orig_nbformat": 4
 },
 "nbformat": 4,
 "nbformat_minor": 2
}
