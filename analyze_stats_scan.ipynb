{
 "cells": [
  {
   "cell_type": "code",
   "execution_count": 1,
   "source": [
    "from stats_can import StatsCan\n",
    "from datetime import date\n",
    "sc = StatsCan()\n",
    "df = sc.table_to_df(\"23-10-0066-01\")\n",
    "\n",
    "start_date = date(2000, 1, 31)\n",
    "end_date = date(2021, 1, 3)\n",
    "\n",
    "bw_values = df.query('@start_date < REF_DATE < @end_date')\n",
    "bw_values.to_csv(\"data/want.csv\")\n",
    "\n"
   ],
   "outputs": [],
   "metadata": {}
  },
  {
   "cell_type": "code",
   "execution_count": 2,
   "source": [
    "\n",
    "\n",
    "fruit_vegs_consumption = sc.table_to_df(\"13-10-0096-12\")\n",
    "\n",
    "start_date = date(2000, 1, 31)\n",
    "end_date = date(2021, 1, 3)\n",
    "\n",
    "bw_values = fruit_vegs_consumption.query('@start_date < REF_DATE < @end_date')\n",
    "\n",
    "# print unique values\n",
    "\n",
    "bw_values[\"Indicators\"].unique()\n"
   ],
   "outputs": [
    {
     "output_type": "execute_result",
     "data": {
      "text/plain": [
       "array(['Perceived health, very good or excellent',\n",
       "       'Perceived health, fair or poor',\n",
       "       'Perceived mental health, very good or excellent',\n",
       "       'Perceived mental health, fair or poor',\n",
       "       'Perceived life stress, most days quite a bit or extremely stressful',\n",
       "       'Body mass index, adjusted self-reported, adult (18 years and over), overweight',\n",
       "       'Body mass index, adjusted self-reported, adult (18 years and over), obese',\n",
       "       'Body mass index, self-reported, youth (12 to 17 years old), overweight or obese',\n",
       "       'Arthritis (15 years and over)', 'Diabetes', 'Asthma',\n",
       "       'Chronic obstructive pulmonary disease (COPD; 35 years and over)',\n",
       "       'High blood pressure', 'Mood disorder',\n",
       "       'Current smoker, daily or occasional', 'Current smoker, daily',\n",
       "       'Heavy drinking',\n",
       "       'Self-reported physical activity, 150 minutes per week, adult (18 years and over)',\n",
       "       'Self-reported physical activity, average 60 minutes per day, youth (12 to 17 years old)',\n",
       "       'Breast milk feeding initiation',\n",
       "       'Exclusive breastfeeding, at least 6 months',\n",
       "       'Fruit and vegetable consumption, 5 times or more per day',\n",
       "       'Sense of belonging to local community, somewhat strong or very strong',\n",
       "       'Life satisfaction, satisfied or very satisfied',\n",
       "       'Has a regular healthcare provider',\n",
       "       'Contact with a medical doctor in the past 12 months',\n",
       "       'Influenza immunization in the past 12 months'], dtype=object)"
      ]
     },
     "metadata": {},
     "execution_count": 2
    }
   ],
   "metadata": {}
  },
  {
   "cell_type": "code",
   "execution_count": 14,
   "source": [
    "# get veggies\n",
    "\n",
    "fruits_veggies = bw_values[bw_values[\"Indicators\"] == \"Fruit and vegetable consumption, 5 times or more per day\"]\n",
    "sexes_str = \"Both sexes\"\n",
    "eat = fruits_veggies.query('Sex == @sexes_str & Characteristics == \"Percent\"')\n",
    "print(eat)"
   ],
   "outputs": [
    {
     "output_type": "stream",
     "name": "stdout",
     "text": [
      "         REF_DATE                             GEO        DGUID  \\\n",
      "129    2015-01-01  Canada (excluding territories)          NaN   \n",
      "588    2015-01-01  Canada (excluding territories)          NaN   \n",
      "1017   2015-01-01  Canada (excluding territories)          NaN   \n",
      "1458   2015-01-01  Canada (excluding territories)          NaN   \n",
      "1899   2015-01-01  Canada (excluding territories)          NaN   \n",
      "...           ...                             ...          ...   \n",
      "222800 2020-01-01                British Columbia  2016A000259   \n",
      "223368 2020-01-01                British Columbia  2016A000259   \n",
      "223952 2020-01-01                British Columbia  2016A000259   \n",
      "224536 2020-01-01                British Columbia  2016A000259   \n",
      "225120 2020-01-01                British Columbia  2016A000259   \n",
      "\n",
      "                       Age group         Sex  \\\n",
      "129     Total, 12 years and over  Both sexes   \n",
      "588               12 to 17 years  Both sexes   \n",
      "1017              18 to 34 years  Both sexes   \n",
      "1458              35 to 49 years  Both sexes   \n",
      "1899              50 to 64 years  Both sexes   \n",
      "...                          ...         ...   \n",
      "222800            12 to 17 years  Both sexes   \n",
      "223368            18 to 34 years  Both sexes   \n",
      "223952            35 to 49 years  Both sexes   \n",
      "224536            50 to 64 years  Both sexes   \n",
      "225120         65 years and over  Both sexes   \n",
      "\n",
      "                                               Indicators Characteristics  \\\n",
      "129     Fruit and vegetable consumption, 5 times or mo...         Percent   \n",
      "588     Fruit and vegetable consumption, 5 times or mo...         Percent   \n",
      "1017    Fruit and vegetable consumption, 5 times or mo...         Percent   \n",
      "1458    Fruit and vegetable consumption, 5 times or mo...         Percent   \n",
      "1899    Fruit and vegetable consumption, 5 times or mo...         Percent   \n",
      "...                                                   ...             ...   \n",
      "222800  Fruit and vegetable consumption, 5 times or mo...         Percent   \n",
      "223368  Fruit and vegetable consumption, 5 times or mo...         Percent   \n",
      "223952  Fruit and vegetable consumption, 5 times or mo...         Percent   \n",
      "224536  Fruit and vegetable consumption, 5 times or mo...         Percent   \n",
      "225120  Fruit and vegetable consumption, 5 times or mo...         Percent   \n",
      "\n",
      "            UOM UOM_ID SCALAR_FACTOR SCALAR_ID      VECTOR   COORDINATE  \\\n",
      "129     Percent    239         units         0  v110787693   1.1.1.22.4   \n",
      "588     Percent    239         units         0  v110788239   1.2.1.22.4   \n",
      "1017    Percent    239         units         0  v110788785   1.3.1.22.4   \n",
      "1458    Percent    239         units         0  v110789331   1.4.1.22.4   \n",
      "1899    Percent    239         units         0  v110789877   1.5.1.22.4   \n",
      "...         ...    ...           ...       ...         ...          ...   \n",
      "222800  Percent    239         units         0  v110820999  11.2.1.22.4   \n",
      "223368  Percent    239         units         0  v110821545  11.3.1.22.4   \n",
      "223952  Percent    239         units         0  v110822091  11.4.1.22.4   \n",
      "224536  Percent    239         units         0  v110822637  11.5.1.22.4   \n",
      "225120  Percent    239         units         0  v110823183  11.6.1.22.4   \n",
      "\n",
      "        VALUE STATUS SYMBOL TERMINATED DECIMALS  \n",
      "129      31.5    NaN    NaN        NaN        1  \n",
      "588      31.3    NaN    NaN        NaN        1  \n",
      "1017     31.3    NaN    NaN        NaN        1  \n",
      "1458     32.9    NaN    NaN        NaN        1  \n",
      "1899     30.6    NaN    NaN        NaN        1  \n",
      "...       ...    ...    ...        ...      ...  \n",
      "222800   24.8    NaN    NaN        NaN        1  \n",
      "223368   24.7    NaN    NaN        NaN        1  \n",
      "223952   21.7    NaN    NaN        NaN        1  \n",
      "224536   22.0    NaN    NaN        NaN        1  \n",
      "225120   29.9    NaN    NaN        NaN        1  \n",
      "\n",
      "[396 rows x 18 columns]\n"
     ]
    }
   ],
   "metadata": {}
  }
 ],
 "metadata": {
  "orig_nbformat": 4,
  "language_info": {
   "name": "python",
   "version": "3.8.10",
   "mimetype": "text/x-python",
   "codemirror_mode": {
    "name": "ipython",
    "version": 3
   },
   "pygments_lexer": "ipython3",
   "nbconvert_exporter": "python",
   "file_extension": ".py"
  },
  "kernelspec": {
   "name": "python3",
   "display_name": "Python 3.8.10 64-bit"
  },
  "interpreter": {
   "hash": "31f2aee4e71d21fbe5cf8b01ff0e069b9275f58929596ceb00d14d90e3e16cd6"
  }
 },
 "nbformat": 4,
 "nbformat_minor": 2
}