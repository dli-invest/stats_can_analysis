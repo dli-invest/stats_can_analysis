{
 "cells": [
  {
   "cell_type": "code",
   "execution_count": 16,
   "source": [
    "# Long covid stats are about 10% of covid cases\n",
    "# covid cases website \n",
    "# https://www.worldometers.info/coronavirus/country/canada/\n",
    "# Initial estimate for increased costs, lost income taxes due to jobs\n",
    "# "
   ],
   "outputs": [],
   "metadata": {}
  },
  {
   "cell_type": "code",
   "execution_count": 17,
   "source": [
    "import locale\n",
    "\n",
    "# not everyone will get on welfare\n",
    "# and covid cases will rise\n",
    "# other lost productivity is pretty significant\n",
    "number_with_covid = 165000\n",
    "# about 1000 dollars per month\n",
    "# not everyone gets the maximum \n",
    "yearly_welfare_cost = 1000 * 12\n",
    "total_welfare_cost = yearly_welfare_cost * number_with_covid\n",
    "\n",
    "average_salary = 65000\n",
    "average_tax_rate = 0.20\n",
    "average_taxes = (average_salary * average_tax_rate) * number_with_covid\n",
    "\n",
    "baseline_cost = average_taxes + total_welfare_cost\n",
    "def big_value_with_suffix(value: float, decimals=3) -> str:\n",
    "        fmt_str = \"%.{0:d}f\".format(decimals)\n",
    "        suffix = \"\"\n",
    "        if abs(value) >= 1e9:\n",
    "            suffix = \"B\"\n",
    "            result = locale.format_string(fmt_str, value / 1e9)\n",
    "        elif abs(value) >= 1e6:\n",
    "            suffix = \"M\"\n",
    "            result = locale.format_string(fmt_str, value / 1e6)\n",
    "        elif abs(value) >= 1e3:\n",
    "            suffix = \"K\"\n",
    "            result = locale.format_string(fmt_str, value / 1e3)\n",
    "        else:\n",
    "            result = locale.format_string(fmt_str, value)\n",
    "\n",
    "        return result + suffix \n",
    "print(big_value_with_suffix(baseline_cost))"
   ],
   "outputs": [
    {
     "output_type": "stream",
     "name": "stdout",
     "text": [
      "4.125G\n"
     ]
    }
   ],
   "metadata": {}
  },
  {
   "cell_type": "code",
   "execution_count": null,
   "source": [],
   "outputs": [],
   "metadata": {}
  },
  {
   "cell_type": "code",
   "execution_count": null,
   "source": [],
   "outputs": [],
   "metadata": {}
  }
 ],
 "metadata": {
  "orig_nbformat": 4,
  "language_info": {
   "name": "python",
   "version": "3.8.10",
   "mimetype": "text/x-python",
   "codemirror_mode": {
    "name": "ipython",
    "version": 3
   },
   "pygments_lexer": "ipython3",
   "nbconvert_exporter": "python",
   "file_extension": ".py"
  },
  "kernelspec": {
   "name": "python3",
   "display_name": "Python 3.8.10 64-bit"
  },
  "interpreter": {
   "hash": "916dbcbb3f70747c44a77c7bcd40155683ae19c65e1c03b4aa3499c5328201f1"
  }
 },
 "nbformat": 4,
 "nbformat_minor": 2
}